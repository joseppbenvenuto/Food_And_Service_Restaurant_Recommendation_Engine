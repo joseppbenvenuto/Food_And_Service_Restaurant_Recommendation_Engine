{
 "cells": [
  {
   "cell_type": "markdown",
   "metadata": {},
   "source": [
    "## Data Preprocessing\n",
    "\n",
    "### Project Description:\n",
    "\n",
    "Using pyspark, due to the large size of the data sets, the following code seeks to join two yelp data sets consisting of businesses, reviews, and ratings for restaurants in Toronto.\n",
    "\n",
    "The data can be found at https://www.yelp.com/dataset ."
   ]
  },
  {
   "cell_type": "code",
   "execution_count": 1,
   "metadata": {},
   "outputs": [],
   "source": [
    "# Import packages\n",
    "import findspark\n",
    "findspark.init(\"/Users/joseppbenvenuto/spark-3.0.1-bin-hadoop2.7\")\n",
    "import pyspark\n",
    "from pyspark.sql import SparkSession\n",
    "spark = SparkSession.builder.appName(\"spark\").getOrCreate()\n",
    "import pandas as pd\n",
    "import numpy as np"
   ]
  },
  {
   "cell_type": "code",
   "execution_count": 16,
   "metadata": {},
   "outputs": [
    {
     "name": "stdout",
     "output_type": "stream",
     "text": [
      "root\n",
      " |-- business_id: string (nullable = true)\n",
      " |-- cool: long (nullable = true)\n",
      " |-- date: string (nullable = true)\n",
      " |-- funny: long (nullable = true)\n",
      " |-- review_id: string (nullable = true)\n",
      " |-- stars: double (nullable = true)\n",
      " |-- text: string (nullable = true)\n",
      " |-- useful: long (nullable = true)\n",
      " |-- user_id: string (nullable = true)\n",
      "\n"
     ]
    }
   ],
   "source": [
    "# View schema of data set\n",
    "reviews = spark.read.json('Data/Yelp_Ontario_Restaurant_Review_Data.json')\n",
    "reviews_schema = reviews.printSchema()\n",
    "reviews_schema"
   ]
  },
  {
   "cell_type": "markdown",
   "metadata": {},
   "source": [
    "The above schema describes the data types of each feature found in the data set."
   ]
  },
  {
   "cell_type": "code",
   "execution_count": 17,
   "metadata": {},
   "outputs": [
    {
     "name": "stdout",
     "output_type": "stream",
     "text": [
      "+--------------------+-----+--------------------+--------------------+\n",
      "|         business_id|stars|                text|             user_id|\n",
      "+--------------------+-----+--------------------+--------------------+\n",
      "|-MhfebM0QIsKt87iD...|  2.0|As someone who ha...|OwjRMXRC0KyPrIlcj...|\n",
      "|lbrU8StCq3yDfr-QM...|  1.0|I am actually hor...|nIJD_7ZXHq-FX8byP...|\n",
      "|HQl28KMwrEKHqhFrr...|  5.0|I love Deagan's. ...|V34qejxNsCbcgD8C0...|\n",
      "|5JxlZaqCnk1MnbgRi...|  1.0|Dismal, lukewarm,...|ofKDkJKXSKZXu5xJN...|\n",
      "|IS4cv902ykd8wj1TR...|  4.0|Oh happy day, fin...|UgMW8bLE0QMJDCkQ1...|\n",
      "|nlxHRv1zXGT0c0K51...|  5.0|This is definitel...|5vD2kmE25YBrbayKh...|\n",
      "|Pthe4qk5xh4n-ef-9...|  5.0|Really good place...|aq_ZxGHiri48TUXJl...|\n",
      "|FNCJpSn0tL9iqoY3J...|  5.0|Awesome office an...|dsd-KNYKMpx6ma_sR...|\n",
      "|e_BiI4ej1CW1F0EyV...|  5.0|Most delicious au...|P6apihD4ASf1vpPxH...|\n",
      "|Ws8V970-mQt2X9CwC...|  4.0|I have been here ...|jOERvhmK6_lo_XGUB...|\n",
      "+--------------------+-----+--------------------+--------------------+\n",
      "only showing top 10 rows\n",
      "\n"
     ]
    }
   ],
   "source": [
    "# View data set\n",
    "reviews.createOrReplaceTempView('reviews')\n",
    "reviews_sql = spark.sql(\"\"\"SELECT business_id, stars, text, user_id\n",
    "                           FROM reviews\"\"\")\n",
    "\n",
    "reviews_sql.show(10)"
   ]
  },
  {
   "cell_type": "markdown",
   "metadata": {},
   "source": [
    "The above table represents all the businesses under review, reviews, star ratings, and users."
   ]
  },
  {
   "cell_type": "code",
   "execution_count": 18,
   "metadata": {},
   "outputs": [
    {
     "name": "stdout",
     "output_type": "stream",
     "text": [
      "root\n",
      " |-- business_id: string (nullable = true)\n",
      " |-- name: string (nullable = true)\n",
      " |-- address: string (nullable = true)\n",
      " |-- city: string (nullable = true)\n",
      " |-- state: string (nullable = true)\n",
      " |-- postal_code: string (nullable = true)\n",
      " |-- latitude: string (nullable = true)\n",
      " |-- longitude: string (nullable = true)\n",
      " |-- stars: string (nullable = true)\n",
      " |-- review_count: string (nullable = true)\n",
      " |-- is_open: string (nullable = true)\n",
      " |-- attributes: string (nullable = true)\n",
      " |-- categories: string (nullable = true)\n",
      " |-- hours: string (nullable = true)\n",
      "\n"
     ]
    }
   ],
   "source": [
    "# View schema of data set \n",
    "restaurants = spark.read.csv('Data/Yelp_Ontario_Restaurant_Data.csv', header = True)\n",
    "restaurants_schema = restaurants.printSchema()\n",
    "restaurants_schema"
   ]
  },
  {
   "cell_type": "markdown",
   "metadata": {},
   "source": [
    "The above schema describes the data types of each feature found in the data set."
   ]
  },
  {
   "cell_type": "code",
   "execution_count": 19,
   "metadata": {},
   "outputs": [
    {
     "name": "stdout",
     "output_type": "stream",
     "text": [
      "+--------------------+--------------------+\n",
      "|         business_id|                name|\n",
      "+--------------------+--------------------+\n",
      "|0QjROMVW9ACKjhSEf...|    Mi Mi Restaurant|\n",
      "|37kk0IW6jL7ZlxZF6...|              Edulis|\n",
      "|Nxg73OigmRQQq0d1p...|   Xe Lua Restaurant|\n",
      "|K5Q2vkF5UpytV9Q1r...|          Akira Back|\n",
      "|q0hAKzn_LmyUiScCu...|  Korean Grill House|\n",
      "|IfUkm42SB9D0m_Zbk...|The Fish Store & ...|\n",
      "|N8jmyJCk-LjO9o1K9...|  Harlem Underground|\n",
      "|7ZBh-3wWVQ5zkd6KZ...|       Cibo Wine Bar|\n",
      "|OURoudNtFXyd7RTtl...|        Café Pamenar|\n",
      "|aRqxT28Tdz2aDiZ7V...| White Brick Kitchen|\n",
      "+--------------------+--------------------+\n",
      "only showing top 10 rows\n",
      "\n"
     ]
    }
   ],
   "source": [
    "# View data set\n",
    "restaurants.createOrReplaceTempView('restaurants')\n",
    "restaurants_sql = spark.sql(\"\"\"SELECT business_id, name\n",
    "                               FROM restaurants\"\"\")\n",
    "\n",
    "restaurants_sql.show(10)"
   ]
  },
  {
   "cell_type": "markdown",
   "metadata": {},
   "source": [
    "The above table represents all the businesses and business names under review."
   ]
  },
  {
   "cell_type": "code",
   "execution_count": 20,
   "metadata": {},
   "outputs": [
    {
     "name": "stdout",
     "output_type": "stream",
     "text": [
      "+--------------------+--------------------+--------------------+-----+\n",
      "|                name|             user_id|                text|stars|\n",
      "+--------------------+--------------------+--------------------+-----+\n",
      "|             Levetto|TZQSUDDcA4ek5gBd6...|In the heart of C...|  4.0|\n",
      "|Scaddabush Italia...|iFEM16O5BeKvf_AHs...|Was super excited...|  3.0|\n",
      "|              Patria|Eg_VTAQwK3CxYTORN...|Excellent food, s...|  5.0|\n",
      "|The Fish Store & ...|Kl6jNDAE7PG_VVQaf...|Wow, this baby's ...|  4.0|\n",
      "|       Mangia & Bevi|IeojscL3rg3x3vtmR...|The pizza is very...|  4.0|\n",
      "|  Queen St Warehouse|6WmMHMBM4FLGyK98-...|With many eaterie...|  1.0|\n",
      "|Prohibition Gastr...|BwwqlPVsJk1dbUyNw...|Amazing place! My...|  5.0|\n",
      "|Copacabana Brazil...|kmOvnwtroMBC8y9lO...|My wife is Brazil...|  1.0|\n",
      "|            Our Spot|yiLiYYg6MM7Pmuo6j...|This place is ver...|  5.0|\n",
      "|          Harbour 60|vxf427mKFMUxpfbHC...|This place gone d...|  2.0|\n",
      "+--------------------+--------------------+--------------------+-----+\n",
      "only showing top 10 rows\n",
      "\n"
     ]
    }
   ],
   "source": [
    "# Use SQL to join the two data sets on business id\n",
    "full_yelp_sql = spark.sql(\"\"\"SELECT  rest.name, rev.user_id, rev.text, rev.stars \\\n",
    "                             FROM reviews AS rev JOIN restaurants AS rest \\\n",
    "                             ON rev.business_id = rest.business_id\"\"\")\n",
    "\n",
    "full_yelp_sql.show(10)"
   ]
  },
  {
   "cell_type": "markdown",
   "metadata": {},
   "source": [
    "The above data set is what will be used in the analysis.\n",
    "\n",
    "The data set consists of the business names, users, reviews, and star ratings of the business under review."
   ]
  },
  {
   "cell_type": "code",
   "execution_count": 21,
   "metadata": {},
   "outputs": [],
   "source": [
    "# Export data set to project directory\n",
    "full_yelp = full_yelp_sql.toPandas()\n",
    "full_yelp.to_csv('Data/Yelp_Reviews_Data.csv')"
   ]
  }
 ],
 "metadata": {
  "hide_input": false,
  "kernelspec": {
   "display_name": "Python 3",
   "language": "python",
   "name": "python3"
  },
  "language_info": {
   "codemirror_mode": {
    "name": "ipython",
    "version": 3
   },
   "file_extension": ".py",
   "mimetype": "text/x-python",
   "name": "python",
   "nbconvert_exporter": "python",
   "pygments_lexer": "ipython3",
   "version": "3.8.5"
  },
  "toc": {
   "base_numbering": 1,
   "nav_menu": {},
   "number_sections": true,
   "sideBar": true,
   "skip_h1_title": false,
   "title_cell": "Table of Contents",
   "title_sidebar": "Contents",
   "toc_cell": false,
   "toc_position": {
    "height": "calc(100% - 180px)",
    "left": "10px",
    "top": "150px",
    "width": "239px"
   },
   "toc_section_display": true,
   "toc_window_display": true
  }
 },
 "nbformat": 4,
 "nbformat_minor": 4
}
