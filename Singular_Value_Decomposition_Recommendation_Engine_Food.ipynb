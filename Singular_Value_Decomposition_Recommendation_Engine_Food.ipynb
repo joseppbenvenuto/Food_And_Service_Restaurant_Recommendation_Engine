{
 "cells": [
  {
   "cell_type": "markdown",
   "metadata": {},
   "source": [
    "## Singular Value Decomposition Recommendation Engine Food Standard\n",
    "\n",
    "### Project Description:\n",
    "\n",
    "The below code seeks to use the yelp reviews data from 2008 - 2019 to build a SVD recommendation engine to recommend Toronto restaurants by food-standards."
   ]
  },
  {
   "cell_type": "code",
   "execution_count": 1,
   "metadata": {},
   "outputs": [],
   "source": [
    "# Import packages\n",
    "import pandas as pd\n",
    "import numpy as np\n",
    "from scipy.spatial.distance import cosine\n",
    "import surprise\n",
    "from surprise import Dataset\n",
    "from surprise import SVD\n",
    "from surprise.model_selection import cross_validate\n",
    "from surprise import accuracy\n",
    "from surprise.model_selection import train_test_split\n",
    "from pickle import dump\n",
    "from pickle import load"
   ]
  },
  {
   "cell_type": "markdown",
   "metadata": {},
   "source": [
    "### Data Preprocessing"
   ]
  },
  {
   "cell_type": "code",
   "execution_count": 14,
   "metadata": {},
   "outputs": [
    {
     "name": "stdout",
     "output_type": "stream",
     "text": [
      "\n",
      "\n",
      "<class 'pandas.core.frame.DataFrame'>\n",
      "Int64Index: 66270 entries, 0 to 100762\n",
      "Data columns (total 6 columns):\n",
      " #   Column         Non-Null Count  Dtype  \n",
      "---  ------         --------------  -----  \n",
      " 0   business_name  66270 non-null  object \n",
      " 1   user_id        66270 non-null  object \n",
      " 2   old_text       66270 non-null  object \n",
      " 3   stars          66270 non-null  float64\n",
      " 4   new_text       66270 non-null  object \n",
      " 5   topic          66270 non-null  int64  \n",
      "dtypes: float64(1), int64(1), object(4)\n",
      "memory usage: 3.5+ MB\n"
     ]
    },
    {
     "data": {
      "text/html": [
       "<div>\n",
       "<style scoped>\n",
       "    .dataframe tbody tr th:only-of-type {\n",
       "        vertical-align: middle;\n",
       "    }\n",
       "\n",
       "    .dataframe tbody tr th {\n",
       "        vertical-align: top;\n",
       "    }\n",
       "\n",
       "    .dataframe thead th {\n",
       "        text-align: right;\n",
       "    }\n",
       "</style>\n",
       "<table border=\"1\" class=\"dataframe\">\n",
       "  <thead>\n",
       "    <tr style=\"text-align: right;\">\n",
       "      <th></th>\n",
       "      <th>business_name</th>\n",
       "      <th>user_id</th>\n",
       "      <th>old_text</th>\n",
       "      <th>stars</th>\n",
       "      <th>new_text</th>\n",
       "      <th>topic</th>\n",
       "    </tr>\n",
       "  </thead>\n",
       "  <tbody>\n",
       "    <tr>\n",
       "      <th>0</th>\n",
       "      <td>Levetto</td>\n",
       "      <td>TZQSUDDcA4ek5gBd6BzcjA</td>\n",
       "      <td>In the heart of Chinatown, I discovered it enr...</td>\n",
       "      <td>4.0</td>\n",
       "      <td>heart chinatown discov enrout kensington marke...</td>\n",
       "      <td>3</td>\n",
       "    </tr>\n",
       "    <tr>\n",
       "      <th>2</th>\n",
       "      <td>Niuda Hand-Pulled Noodles</td>\n",
       "      <td>TZQSUDDcA4ek5gBd6BzcjA</td>\n",
       "      <td>Great first experience.\\n\\nMy friend and I wer...</td>\n",
       "      <td>4.0</td>\n",
       "      <td>great first experi friend late dinner last wee...</td>\n",
       "      <td>1</td>\n",
       "    </tr>\n",
       "    <tr>\n",
       "      <th>3</th>\n",
       "      <td>Light Cafe</td>\n",
       "      <td>TZQSUDDcA4ek5gBd6BzcjA</td>\n",
       "      <td>Lots of new things to try on Baldwin this summ...</td>\n",
       "      <td>3.0</td>\n",
       "      <td>lot new thing tri baldwin summer includ new ki...</td>\n",
       "      <td>2</td>\n",
       "    </tr>\n",
       "    <tr>\n",
       "      <th>4</th>\n",
       "      <td>Raijin Ramen</td>\n",
       "      <td>TZQSUDDcA4ek5gBd6BzcjA</td>\n",
       "      <td>With the exponential growth of ramen joints in...</td>\n",
       "      <td>4.0</td>\n",
       "      <td>exponenti growth ramen joint citi one remain o...</td>\n",
       "      <td>1</td>\n",
       "    </tr>\n",
       "    <tr>\n",
       "      <th>5</th>\n",
       "      <td>Light Cafe</td>\n",
       "      <td>TZQSUDDcA4ek5gBd6BzcjA</td>\n",
       "      <td>Back for another lunch! Already, I know. :P\\n\\...</td>\n",
       "      <td>4.0</td>\n",
       "      <td>back anoth lunch alreadi know p anoth friend c...</td>\n",
       "      <td>2</td>\n",
       "    </tr>\n",
       "  </tbody>\n",
       "</table>\n",
       "</div>"
      ],
      "text/plain": [
       "               business_name                 user_id  \\\n",
       "0                    Levetto  TZQSUDDcA4ek5gBd6BzcjA   \n",
       "2  Niuda Hand-Pulled Noodles  TZQSUDDcA4ek5gBd6BzcjA   \n",
       "3                 Light Cafe  TZQSUDDcA4ek5gBd6BzcjA   \n",
       "4               Raijin Ramen  TZQSUDDcA4ek5gBd6BzcjA   \n",
       "5                 Light Cafe  TZQSUDDcA4ek5gBd6BzcjA   \n",
       "\n",
       "                                            old_text  stars  \\\n",
       "0  In the heart of Chinatown, I discovered it enr...    4.0   \n",
       "2  Great first experience.\\n\\nMy friend and I wer...    4.0   \n",
       "3  Lots of new things to try on Baldwin this summ...    3.0   \n",
       "4  With the exponential growth of ramen joints in...    4.0   \n",
       "5  Back for another lunch! Already, I know. :P\\n\\...    4.0   \n",
       "\n",
       "                                            new_text  topic  \n",
       "0  heart chinatown discov enrout kensington marke...      3  \n",
       "2  great first experi friend late dinner last wee...      1  \n",
       "3  lot new thing tri baldwin summer includ new ki...      2  \n",
       "4  exponenti growth ramen joint citi one remain o...      1  \n",
       "5  back anoth lunch alreadi know p anoth friend c...      2  "
      ]
     },
     "execution_count": 14,
     "metadata": {},
     "output_type": "execute_result"
    }
   ],
   "source": [
    "# Import data set\n",
    "data = pd.read_csv('Data/Preprocessed_Reviews_Data.csv')\n",
    "data = data.drop(['Unnamed: 0'], axis = 1)\n",
    "data = data.loc[data['topic'] != 0]\n",
    "\n",
    "# Print data summary\n",
    "print('\\n')\n",
    "data.info()\n",
    "data.head()"
   ]
  },
  {
   "cell_type": "markdown",
   "metadata": {},
   "source": [
    "The data set processed in the topic modeling analysis is imported into the notebook."
   ]
  },
  {
   "cell_type": "code",
   "execution_count": 15,
   "metadata": {},
   "outputs": [
    {
     "name": "stdout",
     "output_type": "stream",
     "text": [
      "\n",
      "number of restaurants for food-standard reco: 908\n",
      "\n",
      "number of users for food-standard reco: 4033\n",
      "\n",
      "number of reviews for food-standard reco: 66270\n",
      "\n"
     ]
    }
   ],
   "source": [
    "print('\\n' + 'number of restaurants for food-standard reco: ' + str(len(data['business_name'].unique())))\n",
    "print('\\n' + 'number of users for food-standard reco: ' + str(len(data['user_id'].unique())))\n",
    "print('\\n' + 'number of reviews for food-standard reco: ' + str(len(data['user_id'])) + '\\n')"
   ]
  },
  {
   "cell_type": "code",
   "execution_count": 16,
   "metadata": {},
   "outputs": [],
   "source": [
    "# Preprocess data set\n",
    "reader = surprise.Reader(rating_scale = (1, 5))\n",
    "data = Dataset.load_from_df(data[['user_id', 'business_name', 'stars']], reader)"
   ]
  },
  {
   "cell_type": "markdown",
   "metadata": {},
   "source": [
    "The data set is preprocessed before fitting to the SVD algorithm."
   ]
  },
  {
   "cell_type": "markdown",
   "metadata": {},
   "source": [
    "### Model Training and Testing"
   ]
  },
  {
   "cell_type": "code",
   "execution_count": 4,
   "metadata": {},
   "outputs": [
    {
     "name": "stdout",
     "output_type": "stream",
     "text": [
      "\n",
      "rmse average: 0.88\n",
      "rmse standard deviation: 0.01\n",
      "\n",
      "\n",
      "mae average: 0.68\n",
      "mae standard deviation: 0.01\n",
      "\n"
     ]
    }
   ],
   "source": [
    "# Validate SVD algorithm via cross validation\n",
    "algo = SVD(n_factors = 200, n_epochs = 200, random_state = 100)\n",
    "cross_val = cross_validate(algo, data, measures = ['RMSE', 'MAE'], cv = 10, verbose = False)\n",
    "values = cross_val.values()\n",
    "values_list = list(values)\n",
    "\n",
    "# RMSE\n",
    "rmse = values_list[0]\n",
    "rmse_avg = round(sum(rmse) / len(rmse),2)\n",
    "rmse_std = round(rmse.std(),2)\n",
    "\n",
    "#MAE\n",
    "mae = values_list[1]\n",
    "mae_avg = round(sum(mae) / len(mae),2)\n",
    "mae_std = round(mae.std(),2)\n",
    "\n",
    "# Print results\n",
    "print('\\n' + 'rmse average: ' + str(rmse_avg) + '\\n' + 'rmse standard deviation: ' + str(rmse_std) + '\\n')\n",
    "print('\\n' + 'mae average: ' + str(mae_avg) + '\\n' + 'mae standard deviation: ' + str(mae_std) + '\\n')"
   ]
  },
  {
   "cell_type": "markdown",
   "metadata": {},
   "source": [
    "Using cross validation, the SVD algorithm appears to be generating fair results considering the star ratings are in range from 1 - 5."
   ]
  },
  {
   "cell_type": "code",
   "execution_count": 5,
   "metadata": {},
   "outputs": [
    {
     "name": "stdout",
     "output_type": "stream",
     "text": [
      "\n",
      "\n",
      "RMSE: 0.8862\n",
      "0.89\n",
      "MAE:  0.6888\n",
      "0.69\n",
      "\n",
      "\n",
      "(908, 200)\n",
      "\n"
     ]
    }
   ],
   "source": [
    "# Split data into an 80/20 split\n",
    "trainset, testset = train_test_split(data, test_size = 0.20, random_state = 100)\n",
    "# Generate SVD Algorithm\n",
    "algo = SVD(n_factors = 200, n_epochs = 200, random_state = 100)\n",
    "# Fit trainset to SVD algorithm\n",
    "algo.fit(trainset)\n",
    "# Generate rating predictions\n",
    "predictions_test = algo.test(testset)\n",
    "\n",
    "# Print test results\n",
    "print('\\n')\n",
    "print(str(round(accuracy.rmse(predictions_test),2)))\n",
    "print(str(round(accuracy.mae(predictions_test),2)))\n",
    "print('\\n')\n",
    "print(str(algo.qi.shape) + '\\n')"
   ]
  },
  {
   "cell_type": "markdown",
   "metadata": {},
   "source": [
    "The results for the test set are slight lower than the cross validation results. This is a good sign because the variation between the two are low."
   ]
  },
  {
   "cell_type": "code",
   "execution_count": 6,
   "metadata": {},
   "outputs": [],
   "source": [
    "# Save as pickle file\n",
    "dump(algo, open('SVD_Model_Food.pkl', 'wb'))"
   ]
  },
  {
   "cell_type": "code",
   "execution_count": 2,
   "metadata": {},
   "outputs": [],
   "source": [
    "# Load algo as pickle file\n",
    "algo = load(open('SVD_Model_Food.pkl', 'rb'))"
   ]
  },
  {
   "cell_type": "markdown",
   "metadata": {},
   "source": [
    "### Recommendations"
   ]
  },
  {
   "cell_type": "code",
   "execution_count": 3,
   "metadata": {},
   "outputs": [],
   "source": [
    "# Create recommendation function\n",
    "def recommendation (rest1, rating1, rest2, rating2, rest3, rating3):\n",
    "    \n",
    "    # Cosine distance between vectors calculation\n",
    "    def cosine_distance(vector_a = np.array, vector_b = np.array):\n",
    "        return cosine(vector_a, vector_b)\n",
    "    \n",
    "    # Retrieve vectors by restaurant name\n",
    "    def get_vector_by_rest_name(rest_name, trained_model):\n",
    "        rest_row_idx = trained_model.trainset._raw2inner_id_items[rest_name]\n",
    "        return trained_model.qi[rest_row_idx]\n",
    "    \n",
    "    # Get vectors by restaurant name for three restaurants\n",
    "    vector1 = get_vector_by_rest_name(rest1, algo)\n",
    "    score1 = rating1\n",
    "    vector2 = get_vector_by_rest_name(rest2, algo)\n",
    "    score2 = rating2\n",
    "    vector3 = get_vector_by_rest_name(rest3, algo)\n",
    "    score3 = rating3\n",
    "    \n",
    "    ##############################################################################################################\n",
    "    \n",
    "    # Calculate cosine similarity for all three chosen restaurants' vectors against all other restaurant vectors\n",
    "    similarity_table1 = []\n",
    "    for rest_name in algo.trainset._raw2inner_id_items.keys():\n",
    "        rest_vector = get_vector_by_rest_name(rest_name, algo)\n",
    "        similarity_score = cosine_distance(vector1, rest_vector)\n",
    "        similarity_table1.append((1-similarity_score, rest_name))\n",
    "        \n",
    "    # Convert similarity table into a data frame\n",
    "    rest_rec1 = pd.DataFrame(similarity_table1, columns = ['similarity', 'restaurant name'])\n",
    "    # Scale cosine score by rating\n",
    "    rest_rec1['similarity'] = rest_rec1['similarity'] * score1\n",
    "    # Sort data set to descending\n",
    "    rest_rec1 = rest_rec1.sort_values('similarity', ascending = False)\n",
    "    \n",
    "    ##############################################################################################################\n",
    "    \n",
    "    # Calculate cosine similarity for all three chosen restaurants' vectors against all other restaurant vectors\n",
    "    similarity_table2 = []\n",
    "    for rest_name in algo.trainset._raw2inner_id_items.keys():\n",
    "        rest_vector = get_vector_by_rest_name(rest_name, algo)\n",
    "        similarity_score = cosine_distance(vector2, rest_vector)\n",
    "        similarity_table2.append((1-similarity_score, rest_name))\n",
    "        \n",
    "    # Convert similarity table into a data frame\n",
    "    rest_rec2 = pd.DataFrame(similarity_table2, columns = ['similarity', 'restaurant name'])\n",
    "    # Scale cosine score by rating\n",
    "    rest_rec2['similarity'] = rest_rec2['similarity'] * score2\n",
    "    # Sort data set to descending\n",
    "    rest_rec2 = rest_rec2.sort_values('similarity', ascending = False)\n",
    "    \n",
    "    ##############################################################################################################\n",
    "    \n",
    "    # Calculate cosine similarity for all three chosen restaurants' vectors against all other restaurant vectors\n",
    "    similarity_table3 = []\n",
    "    for rest_name in algo.trainset._raw2inner_id_items.keys():\n",
    "        rest_vector = get_vector_by_rest_name(rest_name, algo)\n",
    "        similarity_score = cosine_distance(vector3, rest_vector)\n",
    "        similarity_table3.append((1-similarity_score, rest_name))\n",
    "    \n",
    "    # Convert similarity table into a data frame\n",
    "    rest_rec3 = pd.DataFrame(similarity_table3, columns = ['similarity', 'restaurant name'])\n",
    "    # Scale cosine score by rating\n",
    "    rest_rec3['similarity'] = rest_rec3['similarity'] * score3\n",
    "    # Sort data set to descending\n",
    "    rest_rec3 = rest_rec3.sort_values('similarity', ascending = False).reset_index()\n",
    "    \n",
    "    ##############################################################################################################\n",
    "    \n",
    "    # Create a list of all data frames\n",
    "    df_list = [rest_rec1, rest_rec2, rest_rec3]\n",
    "    # Concatenate all data frames by axis 0\n",
    "    rest_rec4 = pd.concat(df_list, axis = 0)\n",
    "    # Remove all three chosen restaurants \n",
    "    rest_rec4 = rest_rec4.loc[(rest_rec4['restaurant name'] != rest1) & (rest_rec4['restaurant name'] != rest2) &\n",
    "                              (rest_rec4['restaurant name'] != rest3)].reset_index(drop = True)\n",
    "    # Scale cosine score by duplicates\n",
    "    rest_rec4 = rest_rec4.groupby(by = \"restaurant name\").sum().reset_index()\n",
    "    # Sort values by cosine values in descending order\n",
    "    rest_rec4 = rest_rec4.sort_values('similarity', ascending = False).reset_index(drop = True)\n",
    "    \n",
    "    # Print recommendations\n",
    "    print('\\n')\n",
    "    rest_rec4.info()\n",
    "    return rest_rec4.head(10)   "
   ]
  },
  {
   "cell_type": "markdown",
   "metadata": {},
   "source": [
    "Using cosine distances, three restaurant vectors are chosen to compare to the rest of the restaurant vectors among the the data set.\n",
    "\n",
    "The cosine similarity between the vectors are measured returning a list of restaurant names with attached cosine values similar to the chosen restaurants. \n",
    "\n",
    "Duplicate restaurants' cosine values will be summed returning scaled results.\n",
    "\n",
    "Further the chosen restaurants are scaled from 0 - 5 to represent how much the restaurant is liked and depending on these ratings, the list of restaurant names' values are scaled accordingly. The scaling will return similar restaurants that are liked in descending order. "
   ]
  },
  {
   "cell_type": "code",
   "execution_count": 17,
   "metadata": {},
   "outputs": [
    {
     "name": "stdout",
     "output_type": "stream",
     "text": [
      "\n",
      "\n",
      "<class 'pandas.core.frame.DataFrame'>\n",
      "RangeIndex: 905 entries, 0 to 904\n",
      "Data columns (total 3 columns):\n",
      " #   Column           Non-Null Count  Dtype  \n",
      "---  ------           --------------  -----  \n",
      " 0   restaurant name  905 non-null    object \n",
      " 1   similarity       905 non-null    float64\n",
      " 2   index            905 non-null    float64\n",
      "dtypes: float64(2), object(1)\n",
      "memory usage: 21.3+ KB\n"
     ]
    },
    {
     "data": {
      "text/html": [
       "<div>\n",
       "<style scoped>\n",
       "    .dataframe tbody tr th:only-of-type {\n",
       "        vertical-align: middle;\n",
       "    }\n",
       "\n",
       "    .dataframe tbody tr th {\n",
       "        vertical-align: top;\n",
       "    }\n",
       "\n",
       "    .dataframe thead th {\n",
       "        text-align: right;\n",
       "    }\n",
       "</style>\n",
       "<table border=\"1\" class=\"dataframe\">\n",
       "  <thead>\n",
       "    <tr style=\"text-align: right;\">\n",
       "      <th></th>\n",
       "      <th>restaurant name</th>\n",
       "      <th>similarity</th>\n",
       "      <th>index</th>\n",
       "    </tr>\n",
       "  </thead>\n",
       "  <tbody>\n",
       "    <tr>\n",
       "      <th>0</th>\n",
       "      <td>Hoops Sports Bar &amp; Grill</td>\n",
       "      <td>2.142297</td>\n",
       "      <td>176.0</td>\n",
       "    </tr>\n",
       "    <tr>\n",
       "      <th>1</th>\n",
       "      <td>Sassafraz</td>\n",
       "      <td>1.783826</td>\n",
       "      <td>512.0</td>\n",
       "    </tr>\n",
       "    <tr>\n",
       "      <th>2</th>\n",
       "      <td>Roll N Bowl</td>\n",
       "      <td>1.651602</td>\n",
       "      <td>613.0</td>\n",
       "    </tr>\n",
       "    <tr>\n",
       "      <th>3</th>\n",
       "      <td>Café La Gaffe</td>\n",
       "      <td>1.633414</td>\n",
       "      <td>477.0</td>\n",
       "    </tr>\n",
       "    <tr>\n",
       "      <th>4</th>\n",
       "      <td>Hothouse</td>\n",
       "      <td>1.540942</td>\n",
       "      <td>498.0</td>\n",
       "    </tr>\n",
       "    <tr>\n",
       "      <th>5</th>\n",
       "      <td>Donatello Restaurant</td>\n",
       "      <td>1.501833</td>\n",
       "      <td>685.0</td>\n",
       "    </tr>\n",
       "    <tr>\n",
       "      <th>6</th>\n",
       "      <td>Restaurant La Banane</td>\n",
       "      <td>1.488626</td>\n",
       "      <td>521.0</td>\n",
       "    </tr>\n",
       "    <tr>\n",
       "      <th>7</th>\n",
       "      <td>Vesuvio Pizzeria &amp; Spaghetti House</td>\n",
       "      <td>1.419952</td>\n",
       "      <td>594.0</td>\n",
       "    </tr>\n",
       "    <tr>\n",
       "      <th>8</th>\n",
       "      <td>Nomé Izakaya</td>\n",
       "      <td>1.376261</td>\n",
       "      <td>198.0</td>\n",
       "    </tr>\n",
       "    <tr>\n",
       "      <th>9</th>\n",
       "      <td>Black Camel</td>\n",
       "      <td>1.366748</td>\n",
       "      <td>1.0</td>\n",
       "    </tr>\n",
       "  </tbody>\n",
       "</table>\n",
       "</div>"
      ],
      "text/plain": [
       "                      restaurant name  similarity  index\n",
       "0            Hoops Sports Bar & Grill    2.142297  176.0\n",
       "1                           Sassafraz    1.783826  512.0\n",
       "2                         Roll N Bowl    1.651602  613.0\n",
       "3                       Café La Gaffe    1.633414  477.0\n",
       "4                            Hothouse    1.540942  498.0\n",
       "5                Donatello Restaurant    1.501833  685.0\n",
       "6                Restaurant La Banane    1.488626  521.0\n",
       "7  Vesuvio Pizzeria & Spaghetti House    1.419952  594.0\n",
       "8                        Nomé Izakaya    1.376261  198.0\n",
       "9                         Black Camel    1.366748    1.0"
      ]
     },
     "execution_count": 17,
     "metadata": {},
     "output_type": "execute_result"
    }
   ],
   "source": [
    "# Test recommendation engine function\n",
    "recommendation(\"Uncle Tetsu's Japanese Cheesecake\", 5, \n",
    "               \"Kyoto House Japanese Restaurant\", 5, \n",
    "               \"Wheat Sheaf Tavern\", 5)"
   ]
  },
  {
   "cell_type": "markdown",
   "metadata": {},
   "source": [
    "the recommendation function is used and the top 10 restaurant recommendations are returned."
   ]
  }
 ],
 "metadata": {
  "hide_input": false,
  "kernelspec": {
   "display_name": "Python 3",
   "language": "python",
   "name": "python3"
  },
  "language_info": {
   "codemirror_mode": {
    "name": "ipython",
    "version": 3
   },
   "file_extension": ".py",
   "mimetype": "text/x-python",
   "name": "python",
   "nbconvert_exporter": "python",
   "pygments_lexer": "ipython3",
   "version": "3.8.5"
  },
  "toc": {
   "base_numbering": 1,
   "nav_menu": {},
   "number_sections": true,
   "sideBar": true,
   "skip_h1_title": false,
   "title_cell": "Table of Contents",
   "title_sidebar": "Contents",
   "toc_cell": false,
   "toc_position": {
    "height": "calc(100% - 180px)",
    "left": "10px",
    "top": "150px",
    "width": "481px"
   },
   "toc_section_display": true,
   "toc_window_display": true
  }
 },
 "nbformat": 4,
 "nbformat_minor": 4
}
