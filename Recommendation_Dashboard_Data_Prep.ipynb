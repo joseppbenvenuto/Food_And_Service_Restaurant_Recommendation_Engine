{
 "cells": [
  {
   "cell_type": "markdown",
   "metadata": {},
   "source": [
    "## Recommendation_Dashboard_Data_Prep\n",
    "\n",
    "### Project Description:\n",
    "\n",
    "The below codes seeks to generate data sets to accompany the plotly and dash dashboard. "
   ]
  },
  {
   "cell_type": "code",
   "execution_count": 10,
   "metadata": {},
   "outputs": [],
   "source": [
    "# Import packages\n",
    "import pandas as pd\n",
    "import numpy as np"
   ]
  },
  {
   "cell_type": "markdown",
   "metadata": {},
   "source": [
    "### Data Preprocessing"
   ]
  },
  {
   "cell_type": "code",
   "execution_count": 11,
   "metadata": {},
   "outputs": [
    {
     "name": "stdout",
     "output_type": "stream",
     "text": [
      "\n",
      "\n",
      "<class 'pandas.core.frame.DataFrame'>\n",
      "RangeIndex: 100763 entries, 0 to 100762\n",
      "Data columns (total 6 columns):\n",
      " #   Column         Non-Null Count   Dtype  \n",
      "---  ------         --------------   -----  \n",
      " 0   business_name  100763 non-null  object \n",
      " 1   user_id        100763 non-null  object \n",
      " 2   old_text       100763 non-null  object \n",
      " 3   stars          100763 non-null  float64\n",
      " 4   new_text       100763 non-null  object \n",
      " 5   topic          100763 non-null  int64  \n",
      "dtypes: float64(1), int64(1), object(4)\n",
      "memory usage: 4.6+ MB\n"
     ]
    },
    {
     "data": {
      "text/html": [
       "<div>\n",
       "<style scoped>\n",
       "    .dataframe tbody tr th:only-of-type {\n",
       "        vertical-align: middle;\n",
       "    }\n",
       "\n",
       "    .dataframe tbody tr th {\n",
       "        vertical-align: top;\n",
       "    }\n",
       "\n",
       "    .dataframe thead th {\n",
       "        text-align: right;\n",
       "    }\n",
       "</style>\n",
       "<table border=\"1\" class=\"dataframe\">\n",
       "  <thead>\n",
       "    <tr style=\"text-align: right;\">\n",
       "      <th></th>\n",
       "      <th>business_name</th>\n",
       "      <th>user_id</th>\n",
       "      <th>old_text</th>\n",
       "      <th>stars</th>\n",
       "      <th>new_text</th>\n",
       "      <th>topic</th>\n",
       "    </tr>\n",
       "  </thead>\n",
       "  <tbody>\n",
       "    <tr>\n",
       "      <th>0</th>\n",
       "      <td>Levetto</td>\n",
       "      <td>TZQSUDDcA4ek5gBd6BzcjA</td>\n",
       "      <td>In the heart of Chinatown, I discovered it enr...</td>\n",
       "      <td>4.0</td>\n",
       "      <td>heart chinatown discov enrout kensington marke...</td>\n",
       "      <td>3</td>\n",
       "    </tr>\n",
       "    <tr>\n",
       "      <th>1</th>\n",
       "      <td>Café La Gaffe</td>\n",
       "      <td>TZQSUDDcA4ek5gBd6BzcjA</td>\n",
       "      <td>One of my Baldwin Village favourites!\\n\\nIt's ...</td>\n",
       "      <td>5.0</td>\n",
       "      <td>one baldwin villag favourit well establish wel...</td>\n",
       "      <td>0</td>\n",
       "    </tr>\n",
       "    <tr>\n",
       "      <th>2</th>\n",
       "      <td>Niuda Hand-Pulled Noodles</td>\n",
       "      <td>TZQSUDDcA4ek5gBd6BzcjA</td>\n",
       "      <td>Great first experience.\\n\\nMy friend and I wer...</td>\n",
       "      <td>4.0</td>\n",
       "      <td>great first experi friend late dinner last wee...</td>\n",
       "      <td>1</td>\n",
       "    </tr>\n",
       "    <tr>\n",
       "      <th>3</th>\n",
       "      <td>Light Cafe</td>\n",
       "      <td>TZQSUDDcA4ek5gBd6BzcjA</td>\n",
       "      <td>Lots of new things to try on Baldwin this summ...</td>\n",
       "      <td>3.0</td>\n",
       "      <td>lot new thing tri baldwin summer includ new ki...</td>\n",
       "      <td>2</td>\n",
       "    </tr>\n",
       "    <tr>\n",
       "      <th>4</th>\n",
       "      <td>Raijin Ramen</td>\n",
       "      <td>TZQSUDDcA4ek5gBd6BzcjA</td>\n",
       "      <td>With the exponential growth of ramen joints in...</td>\n",
       "      <td>4.0</td>\n",
       "      <td>exponenti growth ramen joint citi one remain o...</td>\n",
       "      <td>1</td>\n",
       "    </tr>\n",
       "  </tbody>\n",
       "</table>\n",
       "</div>"
      ],
      "text/plain": [
       "               business_name                 user_id  \\\n",
       "0                    Levetto  TZQSUDDcA4ek5gBd6BzcjA   \n",
       "1              Café La Gaffe  TZQSUDDcA4ek5gBd6BzcjA   \n",
       "2  Niuda Hand-Pulled Noodles  TZQSUDDcA4ek5gBd6BzcjA   \n",
       "3                 Light Cafe  TZQSUDDcA4ek5gBd6BzcjA   \n",
       "4               Raijin Ramen  TZQSUDDcA4ek5gBd6BzcjA   \n",
       "\n",
       "                                            old_text  stars  \\\n",
       "0  In the heart of Chinatown, I discovered it enr...    4.0   \n",
       "1  One of my Baldwin Village favourites!\\n\\nIt's ...    5.0   \n",
       "2  Great first experience.\\n\\nMy friend and I wer...    4.0   \n",
       "3  Lots of new things to try on Baldwin this summ...    3.0   \n",
       "4  With the exponential growth of ramen joints in...    4.0   \n",
       "\n",
       "                                            new_text  topic  \n",
       "0  heart chinatown discov enrout kensington marke...      3  \n",
       "1  one baldwin villag favourit well establish wel...      0  \n",
       "2  great first experi friend late dinner last wee...      1  \n",
       "3  lot new thing tri baldwin summer includ new ki...      2  \n",
       "4  exponenti growth ramen joint citi one remain o...      1  "
      ]
     },
     "execution_count": 11,
     "metadata": {},
     "output_type": "execute_result"
    }
   ],
   "source": [
    "# Import dat set processed from the topic modeling analysis\n",
    "all = pd.read_csv('Data/Preprocessed_Reviews_Data.csv')\n",
    "all = all.drop(['Unnamed: 0'], axis = 1)\n",
    "\n",
    "# Print data summary\n",
    "print('\\n')\n",
    "all.info()\n",
    "all.head()"
   ]
  },
  {
   "cell_type": "code",
   "execution_count": 14,
   "metadata": {},
   "outputs": [],
   "source": [
    "# Export data set to project directory as ALL.csv\n",
    "all.to_csv('Data/All.csv')"
   ]
  },
  {
   "cell_type": "markdown",
   "metadata": {},
   "source": [
    "This data set will contain all reviews for the user to be recommended all restaurants by all standards."
   ]
  },
  {
   "cell_type": "code",
   "execution_count": 3,
   "metadata": {},
   "outputs": [
    {
     "name": "stdout",
     "output_type": "stream",
     "text": [
      "\n",
      "\n",
      "<class 'pandas.core.frame.DataFrame'>\n",
      "Int64Index: 66270 entries, 0 to 100762\n",
      "Data columns (total 6 columns):\n",
      " #   Column         Non-Null Count  Dtype  \n",
      "---  ------         --------------  -----  \n",
      " 0   business_name  66270 non-null  object \n",
      " 1   user_id        66270 non-null  object \n",
      " 2   old_text       66270 non-null  object \n",
      " 3   stars          66270 non-null  float64\n",
      " 4   new_text       66270 non-null  object \n",
      " 5   topic          66270 non-null  int64  \n",
      "dtypes: float64(1), int64(1), object(4)\n",
      "memory usage: 3.5+ MB\n"
     ]
    },
    {
     "data": {
      "text/html": [
       "<div>\n",
       "<style scoped>\n",
       "    .dataframe tbody tr th:only-of-type {\n",
       "        vertical-align: middle;\n",
       "    }\n",
       "\n",
       "    .dataframe tbody tr th {\n",
       "        vertical-align: top;\n",
       "    }\n",
       "\n",
       "    .dataframe thead th {\n",
       "        text-align: right;\n",
       "    }\n",
       "</style>\n",
       "<table border=\"1\" class=\"dataframe\">\n",
       "  <thead>\n",
       "    <tr style=\"text-align: right;\">\n",
       "      <th></th>\n",
       "      <th>business_name</th>\n",
       "      <th>user_id</th>\n",
       "      <th>old_text</th>\n",
       "      <th>stars</th>\n",
       "      <th>new_text</th>\n",
       "      <th>topic</th>\n",
       "    </tr>\n",
       "  </thead>\n",
       "  <tbody>\n",
       "    <tr>\n",
       "      <th>0</th>\n",
       "      <td>Levetto</td>\n",
       "      <td>TZQSUDDcA4ek5gBd6BzcjA</td>\n",
       "      <td>In the heart of Chinatown, I discovered it enr...</td>\n",
       "      <td>4.0</td>\n",
       "      <td>heart chinatown discov enrout kensington marke...</td>\n",
       "      <td>3</td>\n",
       "    </tr>\n",
       "    <tr>\n",
       "      <th>2</th>\n",
       "      <td>Niuda Hand-Pulled Noodles</td>\n",
       "      <td>TZQSUDDcA4ek5gBd6BzcjA</td>\n",
       "      <td>Great first experience.\\n\\nMy friend and I wer...</td>\n",
       "      <td>4.0</td>\n",
       "      <td>great first experi friend late dinner last wee...</td>\n",
       "      <td>1</td>\n",
       "    </tr>\n",
       "    <tr>\n",
       "      <th>3</th>\n",
       "      <td>Light Cafe</td>\n",
       "      <td>TZQSUDDcA4ek5gBd6BzcjA</td>\n",
       "      <td>Lots of new things to try on Baldwin this summ...</td>\n",
       "      <td>3.0</td>\n",
       "      <td>lot new thing tri baldwin summer includ new ki...</td>\n",
       "      <td>2</td>\n",
       "    </tr>\n",
       "    <tr>\n",
       "      <th>4</th>\n",
       "      <td>Raijin Ramen</td>\n",
       "      <td>TZQSUDDcA4ek5gBd6BzcjA</td>\n",
       "      <td>With the exponential growth of ramen joints in...</td>\n",
       "      <td>4.0</td>\n",
       "      <td>exponenti growth ramen joint citi one remain o...</td>\n",
       "      <td>1</td>\n",
       "    </tr>\n",
       "    <tr>\n",
       "      <th>5</th>\n",
       "      <td>Light Cafe</td>\n",
       "      <td>TZQSUDDcA4ek5gBd6BzcjA</td>\n",
       "      <td>Back for another lunch! Already, I know. :P\\n\\...</td>\n",
       "      <td>4.0</td>\n",
       "      <td>back anoth lunch alreadi know p anoth friend c...</td>\n",
       "      <td>2</td>\n",
       "    </tr>\n",
       "  </tbody>\n",
       "</table>\n",
       "</div>"
      ],
      "text/plain": [
       "               business_name                 user_id  \\\n",
       "0                    Levetto  TZQSUDDcA4ek5gBd6BzcjA   \n",
       "2  Niuda Hand-Pulled Noodles  TZQSUDDcA4ek5gBd6BzcjA   \n",
       "3                 Light Cafe  TZQSUDDcA4ek5gBd6BzcjA   \n",
       "4               Raijin Ramen  TZQSUDDcA4ek5gBd6BzcjA   \n",
       "5                 Light Cafe  TZQSUDDcA4ek5gBd6BzcjA   \n",
       "\n",
       "                                            old_text  stars  \\\n",
       "0  In the heart of Chinatown, I discovered it enr...    4.0   \n",
       "2  Great first experience.\\n\\nMy friend and I wer...    4.0   \n",
       "3  Lots of new things to try on Baldwin this summ...    3.0   \n",
       "4  With the exponential growth of ramen joints in...    4.0   \n",
       "5  Back for another lunch! Already, I know. :P\\n\\...    4.0   \n",
       "\n",
       "                                            new_text  topic  \n",
       "0  heart chinatown discov enrout kensington marke...      3  \n",
       "2  great first experi friend late dinner last wee...      1  \n",
       "3  lot new thing tri baldwin summer includ new ki...      2  \n",
       "4  exponenti growth ramen joint citi one remain o...      1  \n",
       "5  back anoth lunch alreadi know p anoth friend c...      2  "
      ]
     },
     "execution_count": 3,
     "metadata": {},
     "output_type": "execute_result"
    }
   ],
   "source": [
    "# Filter data set to exclude all service related reviews (topic0)\n",
    "food = data.loc[data['topic'] != 0]\n",
    "\n",
    "# Print data summary\n",
    "print('\\n')\n",
    "food.info()\n",
    "food.head()"
   ]
  },
  {
   "cell_type": "code",
   "execution_count": 9,
   "metadata": {},
   "outputs": [],
   "source": [
    "# Export food review data set to project directory as Food.csv\n",
    "food.to_csv('Data/Food.csv')"
   ]
  },
  {
   "cell_type": "markdown",
   "metadata": {},
   "source": [
    "This data set will contain food reviews for the user to be recommended restaurants by food standards."
   ]
  }
 ],
 "metadata": {
  "hide_input": false,
  "kernelspec": {
   "display_name": "Python 3",
   "language": "python",
   "name": "python3"
  },
  "language_info": {
   "codemirror_mode": {
    "name": "ipython",
    "version": 3
   },
   "file_extension": ".py",
   "mimetype": "text/x-python",
   "name": "python",
   "nbconvert_exporter": "python",
   "pygments_lexer": "ipython3",
   "version": "3.8.5"
  },
  "toc": {
   "base_numbering": 1,
   "nav_menu": {},
   "number_sections": true,
   "sideBar": true,
   "skip_h1_title": false,
   "title_cell": "Table of Contents",
   "title_sidebar": "Contents",
   "toc_cell": false,
   "toc_position": {
    "height": "calc(100% - 180px)",
    "left": "10px",
    "top": "150px",
    "width": "307px"
   },
   "toc_section_display": true,
   "toc_window_display": true
  }
 },
 "nbformat": 4,
 "nbformat_minor": 4
}
